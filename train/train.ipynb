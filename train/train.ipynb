{
 "cells": [
  {
   "cell_type": "code",
   "execution_count": null,
   "metadata": {
    "execution": {
     "iopub.execute_input": "2025-10-19T09:19:28.205654Z",
     "iopub.status.busy": "2025-10-19T09:19:28.205216Z",
     "iopub.status.idle": "2025-10-19T09:19:28.211520Z",
     "shell.execute_reply": "2025-10-19T09:19:28.210965Z",
     "shell.execute_reply.started": "2025-10-19T09:19:28.205630Z"
    },
    "trusted": true
   },
   "outputs": [],
   "source": [
    "labels = {\n",
    "    0 : \"Giả mạo\",\n",
    "    1 : \"Bình thường\"\n",
    "}"
   ]
  },
  {
   "cell_type": "code",
   "execution_count": null,
   "metadata": {
    "execution": {
     "iopub.execute_input": "2025-10-19T09:19:31.582637Z",
     "iopub.status.busy": "2025-10-19T09:19:31.582387Z",
     "iopub.status.idle": "2025-10-19T09:19:31.947829Z",
     "shell.execute_reply": "2025-10-19T09:19:31.947228Z",
     "shell.execute_reply.started": "2025-10-19T09:19:31.582619Z"
    },
    "trusted": true
   },
   "outputs": [],
   "source": [
    "import pandas\n",
    "\n",
    "data_train = pandas.read_csv(\"dataset/train.csv\")\n",
    "data_val = pandas.read_csv(\"dataset/val.csv\")\n",
    "data_test = pandas.read_csv(\"dataset/test.csv\")\n"
   ]
  },
  {
   "cell_type": "code",
   "execution_count": null,
   "metadata": {
    "execution": {
     "iopub.execute_input": "2025-10-19T09:21:02.866964Z",
     "iopub.status.busy": "2025-10-19T09:21:02.866282Z",
     "iopub.status.idle": "2025-10-19T09:21:08.225684Z",
     "shell.execute_reply": "2025-10-19T09:21:08.225035Z",
     "shell.execute_reply.started": "2025-10-19T09:21:02.866935Z"
    },
    "trusted": true
   },
   "outputs": [],
   "source": [
    "!pip install langid"
   ]
  },
  {
   "cell_type": "code",
   "execution_count": null,
   "metadata": {
    "execution": {
     "iopub.execute_input": "2025-10-19T09:21:18.957167Z",
     "iopub.status.busy": "2025-10-19T09:21:18.956860Z",
     "iopub.status.idle": "2025-10-19T09:21:19.022331Z",
     "shell.execute_reply": "2025-10-19T09:21:19.021638Z",
     "shell.execute_reply.started": "2025-10-19T09:21:18.957143Z"
    },
    "trusted": true
   },
   "outputs": [],
   "source": [
    "from langid.langid import LanguageIdentifier, model\n",
    "\n",
    "def identify_vn(df):\n",
    "    identifier = LanguageIdentifier.from_modelstring(model, norm_probs=True)\n",
    "    not_vi_idx = set()\n",
    "    THRESHOLD = 0.9\n",
    "    for idx, row in df.iterrows():\n",
    "        score = identifier.classify(row[\"texts\"])\n",
    "        if score[0] != \"vi\" or (score[0] == \"vi\" and score[1] <= THRESHOLD):\n",
    "            not_vi_idx.add(idx)\n",
    "    vi_df = df[~df.index.isin(not_vi_idx)]\n",
    "    not_vi_df = df[df.index.isin(not_vi_idx)]\n",
    "    return vi_df, not_vi_df"
   ]
  },
  {
   "cell_type": "code",
   "execution_count": null,
   "metadata": {
    "execution": {
     "iopub.execute_input": "2025-10-19T09:21:21.759584Z",
     "iopub.status.busy": "2025-10-19T09:21:21.759321Z",
     "iopub.status.idle": "2025-10-19T09:21:32.049070Z",
     "shell.execute_reply": "2025-10-19T09:21:32.048411Z",
     "shell.execute_reply.started": "2025-10-19T09:21:21.759564Z"
    },
    "trusted": true
   },
   "outputs": [],
   "source": [
    "train_df_vi, train_df_other = identify_vn(data_train)"
   ]
  },
  {
   "cell_type": "code",
   "execution_count": null,
   "metadata": {
    "execution": {
     "iopub.execute_input": "2025-10-19T09:21:34.759391Z",
     "iopub.status.busy": "2025-10-19T09:21:34.758805Z",
     "iopub.status.idle": "2025-10-19T09:21:34.769870Z",
     "shell.execute_reply": "2025-10-19T09:21:34.769295Z",
     "shell.execute_reply.started": "2025-10-19T09:21:34.759365Z"
    },
    "trusted": true
   },
   "outputs": [],
   "source": [
    "print(train_df_vi)"
   ]
  },
  {
   "cell_type": "code",
   "execution_count": null,
   "metadata": {
    "execution": {
     "iopub.execute_input": "2025-10-19T09:21:41.044130Z",
     "iopub.status.busy": "2025-10-19T09:21:41.043454Z",
     "iopub.status.idle": "2025-10-19T09:21:41.049044Z",
     "shell.execute_reply": "2025-10-19T09:21:41.048365Z",
     "shell.execute_reply.started": "2025-10-19T09:21:41.044106Z"
    },
    "trusted": true
   },
   "outputs": [],
   "source": [
    "print(train_df_other)"
   ]
  },
  {
   "cell_type": "code",
   "execution_count": null,
   "metadata": {
    "execution": {
     "iopub.execute_input": "2025-10-19T09:22:14.432339Z",
     "iopub.status.busy": "2025-10-19T09:22:14.431767Z",
     "iopub.status.idle": "2025-10-19T09:22:14.437422Z",
     "shell.execute_reply": "2025-10-19T09:22:14.436611Z",
     "shell.execute_reply.started": "2025-10-19T09:22:14.432315Z"
    },
    "trusted": true
   },
   "outputs": [],
   "source": [
    "import re\n",
    "import string\n",
    "\n",
    "def preprocess_text(text):\n",
    "\n",
    "    url_pattern = re.compile(r'https?://\\s+\\wwww\\.\\s+')\n",
    "    text = url_pattern.sub(r\" \", text)\n",
    "\n",
    "    html_pattern = re.compile(r'<[^<>]+>')\n",
    "    text = html_pattern.sub(\" \", text)\n",
    "\n",
    "    replace_chars = list(string.punctuation + string.digits)\n",
    "    for char in replace_chars:\n",
    "        text = text.replace(char, \" \")\n",
    "\n",
    "    emoji_pattern = re.compile(\"[\"\n",
    "        u\"\\U0001F600-\\U0001F64F\"  # emoticons\n",
    "        u\"\\U0001F300-\\U0001F5FF\"  # symbols & pictographs\n",
    "        u\"\\U0001F680-\\U0001F6FF\"  # transport & map symbols\n",
    "        u\"\\U0001F1E0-\\U0001F1FF\"  # flags (iOS)\n",
    "        u\"\\U0001F1F2-\\U0001F1F4\"  # Macau flag\n",
    "        u\"\\U0001F1E6-\\U0001F1FF\"  # flags\n",
    "        u\"\\U0001F600-\\U0001F64F\"\n",
    "        u\"\\U00002702-\\U000027B0\"\n",
    "        u\"\\U000024C2-\\U0001F251\"\n",
    "        u\"\\U0001f926-\\U0001f937\"\n",
    "        u\"\\U0001F1F2\"\n",
    "        u\"\\U0001F1F4\"\n",
    "        u\"\\U0001F620\"\n",
    "        u\"\\u200d\"\n",
    "        u\"\\u2640-\\u2642\"\n",
    "        \"]+\", flags=re.UNICODE)\n",
    "    text = emoji_pattern.sub(r\" \", text)\n",
    "\n",
    "    text = \" \".join(text.split())\n",
    "\n",
    "    return text.lower()"
   ]
  },
  {
   "cell_type": "code",
   "execution_count": null,
   "metadata": {
    "execution": {
     "iopub.execute_input": "2025-10-19T09:22:36.334577Z",
     "iopub.status.busy": "2025-10-19T09:22:36.334099Z",
     "iopub.status.idle": "2025-10-19T09:22:36.945889Z",
     "shell.execute_reply": "2025-10-19T09:22:36.945104Z",
     "shell.execute_reply.started": "2025-10-19T09:22:36.334555Z"
    },
    "trusted": true
   },
   "outputs": [],
   "source": [
    "train_df_vi['preprocess_sentence'] = [preprocess_text(row['texts']) for index, row in train_df_vi.iterrows()]\n",
    "data_val['preprocess_sentence'] = [preprocess_text(row['texts']) for index, row in data_val.iterrows()]\n",
    "data_test['preprocess_sentence'] = [preprocess_text(row['texts']) for index, row in data_test.iterrows()]"
   ]
  },
  {
   "cell_type": "code",
   "execution_count": null,
   "metadata": {
    "execution": {
     "iopub.execute_input": "2025-10-19T09:22:41.313891Z",
     "iopub.status.busy": "2025-10-19T09:22:41.313268Z",
     "iopub.status.idle": "2025-10-19T09:22:41.736567Z",
     "shell.execute_reply": "2025-10-19T09:22:41.735856Z",
     "shell.execute_reply.started": "2025-10-19T09:22:41.313867Z"
    },
    "trusted": true
   },
   "outputs": [],
   "source": [
    "import matplotlib.pyplot as plt\n",
    "\n",
    "plt.hist([len(sentence.split()) for sentence in train_df_vi['preprocess_sentence']], bins=128, range=(0, 500))\n",
    "plt.show()"
   ]
  },
  {
   "cell_type": "code",
   "execution_count": null,
   "metadata": {
    "execution": {
     "iopub.execute_input": "2025-10-19T09:22:47.735863Z",
     "iopub.status.busy": "2025-10-19T09:22:47.735175Z",
     "iopub.status.idle": "2025-10-19T09:22:47.778239Z",
     "shell.execute_reply": "2025-10-19T09:22:47.777644Z",
     "shell.execute_reply.started": "2025-10-19T09:22:47.735823Z"
    },
    "trusted": true
   },
   "outputs": [],
   "source": [
    "# count: words and vocabulary\n",
    "from collections import Counter\n",
    "\n",
    "words = []\n",
    "[[words.append(word) for word in sentence.split()] for sentence in train_df_vi['preprocess_sentence']]\n",
    "vocabulary = Counter(words)\n",
    "len(vocabulary), len(words)"
   ]
  },
  {
   "cell_type": "code",
   "execution_count": null,
   "metadata": {
    "execution": {
     "iopub.execute_input": "2025-10-19T09:22:50.612318Z",
     "iopub.status.busy": "2025-10-19T09:22:50.611667Z",
     "iopub.status.idle": "2025-10-19T09:25:34.939620Z",
     "shell.execute_reply": "2025-10-19T09:25:34.938592Z",
     "shell.execute_reply.started": "2025-10-19T09:22:50.612292Z"
    },
    "trusted": true
   },
   "outputs": [],
   "source": [
    "!pip install -q torchtext==0.16.0"
   ]
  },
  {
   "cell_type": "code",
   "execution_count": null,
   "metadata": {
    "execution": {
     "iopub.execute_input": "2025-10-19T09:26:03.875807Z",
     "iopub.status.busy": "2025-10-19T09:26:03.875304Z",
     "iopub.status.idle": "2025-10-19T09:26:03.879624Z",
     "shell.execute_reply": "2025-10-19T09:26:03.878961Z",
     "shell.execute_reply.started": "2025-10-19T09:26:03.875778Z"
    },
    "trusted": true
   },
   "outputs": [],
   "source": [
    "def yield_tokens(sentences, tokenizer):\n",
    "    for sentence in sentences:\n",
    "        yield tokenizer(sentence)"
   ]
  },
  {
   "cell_type": "code",
   "execution_count": null,
   "metadata": {
    "execution": {
     "iopub.execute_input": "2025-10-19T09:26:06.514488Z",
     "iopub.status.busy": "2025-10-19T09:26:06.513967Z",
     "iopub.status.idle": "2025-10-19T09:26:10.439804Z",
     "shell.execute_reply": "2025-10-19T09:26:10.439254Z",
     "shell.execute_reply.started": "2025-10-19T09:26:06.514465Z"
    },
    "trusted": true
   },
   "outputs": [],
   "source": [
    "# word-based tokenizer\n",
    "from torchtext.data.utils import get_tokenizer\n",
    "\n",
    "tokenizer = get_tokenizer(\"basic_english\")"
   ]
  },
  {
   "cell_type": "code",
   "execution_count": null,
   "metadata": {
    "execution": {
     "iopub.execute_input": "2025-10-19T09:26:13.431784Z",
     "iopub.status.busy": "2025-10-19T09:26:13.431387Z",
     "iopub.status.idle": "2025-10-19T09:26:13.437139Z",
     "shell.execute_reply": "2025-10-19T09:26:13.436456Z",
     "shell.execute_reply.started": "2025-10-19T09:26:13.431764Z"
    },
    "trusted": true
   },
   "outputs": [],
   "source": [
    "tokenizer(train_df_vi['preprocess_sentence'][0])[:5]"
   ]
  },
  {
   "cell_type": "code",
   "execution_count": null,
   "metadata": {
    "execution": {
     "iopub.execute_input": "2025-10-19T09:26:16.416004Z",
     "iopub.status.busy": "2025-10-19T09:26:16.415334Z",
     "iopub.status.idle": "2025-10-19T09:26:16.610658Z",
     "shell.execute_reply": "2025-10-19T09:26:16.610108Z",
     "shell.execute_reply.started": "2025-10-19T09:26:16.415965Z"
    },
    "trusted": true
   },
   "outputs": [],
   "source": [
    "# build vocabulary\n",
    "from torchtext.vocab import build_vocab_from_iterator\n",
    "\n",
    "vocab_size = 10000\n",
    "vocabulary = build_vocab_from_iterator(\n",
    "    yield_tokens(train_df_vi['preprocess_sentence'], tokenizer),\n",
    "    max_tokens=vocab_size,\n",
    "    specials=[\"<unk>\"]\n",
    ")\n",
    "vocabulary.set_default_index(vocabulary[\"<unk>\"])"
   ]
  },
  {
   "cell_type": "code",
   "execution_count": null,
   "metadata": {
    "execution": {
     "iopub.execute_input": "2025-10-19T09:26:19.055857Z",
     "iopub.status.busy": "2025-10-19T09:26:19.055389Z",
     "iopub.status.idle": "2025-10-19T09:26:19.059588Z",
     "shell.execute_reply": "2025-10-19T09:26:19.058954Z",
     "shell.execute_reply.started": "2025-10-19T09:26:19.055836Z"
    },
    "trusted": true
   },
   "outputs": [],
   "source": [
    "print(len(vocabulary))"
   ]
  },
  {
   "cell_type": "code",
   "execution_count": null,
   "metadata": {
    "execution": {
     "iopub.execute_input": "2025-10-19T09:26:22.019329Z",
     "iopub.status.busy": "2025-10-19T09:26:22.018792Z",
     "iopub.status.idle": "2025-10-19T09:26:22.023349Z",
     "shell.execute_reply": "2025-10-19T09:26:22.022622Z",
     "shell.execute_reply.started": "2025-10-19T09:26:22.019302Z"
    },
    "trusted": true
   },
   "outputs": [],
   "source": [
    "print(vocabulary(tokenizer(train_df_vi['preprocess_sentence'][0])))"
   ]
  },
  {
   "cell_type": "code",
   "execution_count": null,
   "metadata": {
    "execution": {
     "iopub.execute_input": "2025-10-19T09:26:24.818336Z",
     "iopub.status.busy": "2025-10-19T09:26:24.817653Z",
     "iopub.status.idle": "2025-10-19T09:26:24.824885Z",
     "shell.execute_reply": "2025-10-19T09:26:24.824163Z",
     "shell.execute_reply.started": "2025-10-19T09:26:24.818307Z"
    },
    "trusted": true
   },
   "outputs": [],
   "source": [
    "print(train_df_vi)"
   ]
  },
  {
   "cell_type": "code",
   "execution_count": null,
   "metadata": {
    "execution": {
     "iopub.execute_input": "2025-10-19T09:26:29.731696Z",
     "iopub.status.busy": "2025-10-19T09:26:29.731025Z",
     "iopub.status.idle": "2025-10-19T09:26:30.422213Z",
     "shell.execute_reply": "2025-10-19T09:26:30.421625Z",
     "shell.execute_reply.started": "2025-10-19T09:26:29.731670Z"
    },
    "trusted": true
   },
   "outputs": [],
   "source": [
    "from torchtext.data.functional import to_map_style_dataset\n",
    "\n",
    "def prepare_dataset(df):\n",
    "    for index, row in df.iterrows():\n",
    "        sentence = row['preprocess_sentence']\n",
    "        encoded_sentence = vocabulary(tokenizer(sentence))\n",
    "        label = row['labels']\n",
    "        yield encoded_sentence, label\n",
    "\n",
    "train_dataset = prepare_dataset(train_df_vi)\n",
    "train_dataset = to_map_style_dataset(train_dataset)\n",
    "\n",
    "valid_dataset = prepare_dataset(data_val)\n",
    "valid_dataset = to_map_style_dataset(valid_dataset)"
   ]
  },
  {
   "cell_type": "code",
   "execution_count": null,
   "metadata": {
    "execution": {
     "iopub.execute_input": "2025-10-19T09:26:32.856087Z",
     "iopub.status.busy": "2025-10-19T09:26:32.855709Z",
     "iopub.status.idle": "2025-10-19T09:26:32.860043Z",
     "shell.execute_reply": "2025-10-19T09:26:32.859391Z",
     "shell.execute_reply.started": "2025-10-19T09:26:32.856065Z"
    },
    "trusted": true
   },
   "outputs": [],
   "source": [
    "print(train_dataset)"
   ]
  },
  {
   "cell_type": "code",
   "execution_count": null,
   "metadata": {
    "execution": {
     "iopub.execute_input": "2025-10-19T09:26:34.922288Z",
     "iopub.status.busy": "2025-10-19T09:26:34.922028Z",
     "iopub.status.idle": "2025-10-19T09:26:34.926368Z",
     "shell.execute_reply": "2025-10-19T09:26:34.925709Z",
     "shell.execute_reply.started": "2025-10-19T09:26:34.922270Z"
    },
    "trusted": true
   },
   "outputs": [],
   "source": [
    "print(next(iter(train_dataset)))"
   ]
  },
  {
   "cell_type": "code",
   "execution_count": null,
   "metadata": {
    "execution": {
     "iopub.execute_input": "2025-10-19T09:26:37.377516Z",
     "iopub.status.busy": "2025-10-19T09:26:37.377263Z",
     "iopub.status.idle": "2025-10-19T09:26:37.381731Z",
     "shell.execute_reply": "2025-10-19T09:26:37.380889Z",
     "shell.execute_reply.started": "2025-10-19T09:26:37.377498Z"
    },
    "trusted": true
   },
   "outputs": [],
   "source": [
    "print(next(iter(valid_dataset)))"
   ]
  },
  {
   "cell_type": "code",
   "execution_count": null,
   "metadata": {
    "execution": {
     "iopub.execute_input": "2025-10-19T09:26:40.155861Z",
     "iopub.status.busy": "2025-10-19T09:26:40.155403Z",
     "iopub.status.idle": "2025-10-19T09:26:40.240971Z",
     "shell.execute_reply": "2025-10-19T09:26:40.240232Z",
     "shell.execute_reply.started": "2025-10-19T09:26:40.155838Z"
    },
    "trusted": true
   },
   "outputs": [],
   "source": [
    "import torch\n",
    "\n",
    "device = torch.device(\"cuda\" if torch.cuda.is_available() else \"cpu\")\n",
    "\n",
    "def collate_batch(batch):\n",
    "    encoded_sentences, labels, offsets = [], [], [0]\n",
    "    for encoded_sentence, label in batch:\n",
    "        labels.append(label)\n",
    "        encoded_sentence = torch.tensor(encoded_sentence, dtype=torch.int64)\n",
    "        encoded_sentences.append(encoded_sentence)\n",
    "        offsets.append(encoded_sentence.size(0))\n",
    "\n",
    "    labels = torch.tensor(labels, dtype=torch.int64)\n",
    "    offsets = torch.tensor(offsets[:-1]).cumsum(dim=0)\n",
    "    encoded_sentences = torch.cat(encoded_sentences)\n",
    "    return encoded_sentences.to(device), offsets.to(device), labels.to(device)"
   ]
  },
  {
   "cell_type": "code",
   "execution_count": null,
   "metadata": {
    "execution": {
     "iopub.execute_input": "2025-10-19T09:26:44.278252Z",
     "iopub.status.busy": "2025-10-19T09:26:44.277991Z",
     "iopub.status.idle": "2025-10-19T09:26:44.282995Z",
     "shell.execute_reply": "2025-10-19T09:26:44.282197Z",
     "shell.execute_reply.started": "2025-10-19T09:26:44.278235Z"
    },
    "trusted": true
   },
   "outputs": [],
   "source": [
    "from torch.utils.data import DataLoader\n",
    "\n",
    "batch_size = 128\n",
    "train_dataloader = DataLoader(\n",
    "    train_dataset,\n",
    "    batch_size=batch_size,\n",
    "    shuffle=True,\n",
    "    collate_fn=collate_batch\n",
    ")\n",
    "valid_dataloader = DataLoader(\n",
    "    valid_dataset,\n",
    "    batch_size=batch_size,\n",
    "    shuffle=False,\n",
    "    collate_fn=collate_batch\n",
    ")"
   ]
  },
  {
   "cell_type": "code",
   "execution_count": null,
   "metadata": {
    "execution": {
     "iopub.execute_input": "2025-10-19T09:26:48.929354Z",
     "iopub.status.busy": "2025-10-19T09:26:48.929094Z",
     "iopub.status.idle": "2025-10-19T09:26:49.115082Z",
     "shell.execute_reply": "2025-10-19T09:26:49.114477Z",
     "shell.execute_reply.started": "2025-10-19T09:26:48.929336Z"
    },
    "trusted": true
   },
   "outputs": [],
   "source": [
    "next(iter(train_dataloader))"
   ]
  },
  {
   "cell_type": "code",
   "execution_count": null,
   "metadata": {
    "execution": {
     "iopub.execute_input": "2025-10-19T09:26:52.278239Z",
     "iopub.status.busy": "2025-10-19T09:26:52.277522Z",
     "iopub.status.idle": "2025-10-19T09:26:52.283420Z",
     "shell.execute_reply": "2025-10-19T09:26:52.282890Z",
     "shell.execute_reply.started": "2025-10-19T09:26:52.278211Z"
    },
    "trusted": true
   },
   "outputs": [],
   "source": [
    "encoded_sentences, offsets, labels = next(iter(train_dataloader))"
   ]
  },
  {
   "cell_type": "code",
   "execution_count": null,
   "metadata": {
    "execution": {
     "iopub.execute_input": "2025-10-19T09:26:55.236348Z",
     "iopub.status.busy": "2025-10-19T09:26:55.235645Z",
     "iopub.status.idle": "2025-10-19T09:26:55.241922Z",
     "shell.execute_reply": "2025-10-19T09:26:55.240953Z",
     "shell.execute_reply.started": "2025-10-19T09:26:55.236318Z"
    },
    "trusted": true
   },
   "outputs": [],
   "source": [
    "encoded_sentences.shape"
   ]
  },
  {
   "cell_type": "code",
   "execution_count": null,
   "metadata": {
    "execution": {
     "iopub.execute_input": "2025-10-19T09:26:58.082774Z",
     "iopub.status.busy": "2025-10-19T09:26:58.081872Z",
     "iopub.status.idle": "2025-10-19T09:26:58.087973Z",
     "shell.execute_reply": "2025-10-19T09:26:58.087223Z",
     "shell.execute_reply.started": "2025-10-19T09:26:58.082740Z"
    },
    "trusted": true
   },
   "outputs": [],
   "source": [
    "from torch import nn\n",
    "\n",
    "class TextClassificationModel(nn.Module):\n",
    "    def __init__(self, vocab_size, embed_dim, num_class, seq_len):\n",
    "        super(TextClassificationModel, self).__init__()\n",
    "        self.embedding = nn.Embedding(vocab_size, embed_dim)\n",
    "        self.ft = nn.Flatten()\n",
    "        self.fc = nn.Linear(seq_len*embed_dim, num_class)\n",
    "        self.init_weights()\n",
    "\n",
    "    def init_weights(self):\n",
    "        initrange = 0.5\n",
    "        self.embedding.weight.data.uniform_(-initrange, initrange)\n",
    "        self.fc.weight.data.uniform_(-initrange, initrange)\n",
    "        self.fc.bias.data.zero_()\n",
    "\n",
    "    def forward(self, inputs):\n",
    "        embedded = self.embedding(inputs)\n",
    "        ouput = self.ft(embedded)\n",
    "        return self.fc(ouput)"
   ]
  },
  {
   "cell_type": "code",
   "execution_count": null,
   "metadata": {
    "execution": {
     "iopub.execute_input": "2025-10-19T09:27:01.628798Z",
     "iopub.status.busy": "2025-10-19T09:27:01.628543Z",
     "iopub.status.idle": "2025-10-19T09:27:01.635219Z",
     "shell.execute_reply": "2025-10-19T09:27:01.634486Z",
     "shell.execute_reply.started": "2025-10-19T09:27:01.628779Z"
    },
    "trusted": true
   },
   "outputs": [],
   "source": [
    "batch_size = 5\n",
    "seq_len = 10\n",
    "input = torch.ones([batch_size, seq_len], dtype=torch.int32)\n",
    "input"
   ]
  },
  {
   "cell_type": "code",
   "execution_count": null,
   "metadata": {
    "execution": {
     "iopub.execute_input": "2025-10-19T09:27:06.730047Z",
     "iopub.status.busy": "2025-10-19T09:27:06.729347Z",
     "iopub.status.idle": "2025-10-19T09:27:06.742652Z",
     "shell.execute_reply": "2025-10-19T09:27:06.741956Z",
     "shell.execute_reply.started": "2025-10-19T09:27:06.730020Z"
    },
    "trusted": true
   },
   "outputs": [],
   "source": [
    "num_class = 4\n",
    "vocab_size = 5000\n",
    "embed_dim = 100\n",
    "model = TextClassificationModel(vocab_size, embed_dim, num_class, seq_len)"
   ]
  },
  {
   "cell_type": "code",
   "execution_count": null,
   "metadata": {
    "execution": {
     "iopub.execute_input": "2025-10-19T09:27:09.692153Z",
     "iopub.status.busy": "2025-10-19T09:27:09.691531Z",
     "iopub.status.idle": "2025-10-19T09:27:09.695778Z",
     "shell.execute_reply": "2025-10-19T09:27:09.695246Z",
     "shell.execute_reply.started": "2025-10-19T09:27:09.692128Z"
    },
    "trusted": true
   },
   "outputs": [],
   "source": [
    "print(model)"
   ]
  },
  {
   "cell_type": "code",
   "execution_count": null,
   "metadata": {
    "execution": {
     "iopub.execute_input": "2025-10-19T09:27:11.991614Z",
     "iopub.status.busy": "2025-10-19T09:27:11.991383Z",
     "iopub.status.idle": "2025-10-19T09:27:12.005144Z",
     "shell.execute_reply": "2025-10-19T09:27:12.004457Z",
     "shell.execute_reply.started": "2025-10-19T09:27:11.991598Z"
    },
    "trusted": true
   },
   "outputs": [],
   "source": [
    "predictions = model(input)\n",
    "predictions"
   ]
  },
  {
   "cell_type": "code",
   "execution_count": null,
   "metadata": {
    "execution": {
     "iopub.execute_input": "2025-10-19T09:27:15.874836Z",
     "iopub.status.busy": "2025-10-19T09:27:15.874247Z",
     "iopub.status.idle": "2025-10-19T09:27:15.880199Z",
     "shell.execute_reply": "2025-10-19T09:27:15.879481Z",
     "shell.execute_reply.started": "2025-10-19T09:27:15.874807Z"
    },
    "trusted": true
   },
   "outputs": [],
   "source": [
    "from torch import nn\n",
    "\n",
    "class TextClassificationModel(nn.Module):\n",
    "    def __init__(self, vocab_size, embed_dim, num_class):\n",
    "        super(TextClassificationModel, self).__init__()\n",
    "        self.embedding = nn.EmbeddingBag(vocab_size, embed_dim, sparse=False)\n",
    "        self.fc = nn.Linear(embed_dim, num_class)\n",
    "        self.init_weights()\n",
    "\n",
    "    def init_weights(self):\n",
    "        initrange = 0.5\n",
    "        self.embedding.weight.data.uniform_(-initrange, initrange)\n",
    "        self.fc.weight.data.uniform_(-initrange, initrange)\n",
    "        self.fc.bias.data.zero_()\n",
    "\n",
    "    def forward(self, inputs, offsets):\n",
    "        embedded = self.embedding(inputs, offsets)\n",
    "        return self.fc(embedded)"
   ]
  },
  {
   "cell_type": "code",
   "execution_count": null,
   "metadata": {
    "execution": {
     "iopub.execute_input": "2025-10-19T09:27:19.877730Z",
     "iopub.status.busy": "2025-10-19T09:27:19.877258Z",
     "iopub.status.idle": "2025-10-19T09:27:19.886624Z",
     "shell.execute_reply": "2025-10-19T09:27:19.885895Z",
     "shell.execute_reply.started": "2025-10-19T09:27:19.877709Z"
    },
    "trusted": true
   },
   "outputs": [],
   "source": [
    "num_class = len(set(train_df_vi['labels']))\n",
    "vocab_size = len(vocabulary)\n",
    "print(vocab_size)\n",
    "embed_dim = 100\n",
    "model = TextClassificationModel(vocab_size, embed_dim, num_class).to(device)"
   ]
  },
  {
   "cell_type": "code",
   "execution_count": null,
   "metadata": {
    "execution": {
     "iopub.execute_input": "2025-10-19T09:27:22.196359Z",
     "iopub.status.busy": "2025-10-19T09:27:22.195745Z",
     "iopub.status.idle": "2025-10-19T09:27:22.327986Z",
     "shell.execute_reply": "2025-10-19T09:27:22.327331Z",
     "shell.execute_reply.started": "2025-10-19T09:27:22.196333Z"
    },
    "trusted": true
   },
   "outputs": [],
   "source": [
    "print(model)"
   ]
  },
  {
   "cell_type": "code",
   "execution_count": null,
   "metadata": {
    "execution": {
     "iopub.execute_input": "2025-10-19T09:27:24.580539Z",
     "iopub.status.busy": "2025-10-19T09:27:24.579834Z",
     "iopub.status.idle": "2025-10-19T09:27:24.615373Z",
     "shell.execute_reply": "2025-10-19T09:27:24.614832Z",
     "shell.execute_reply.started": "2025-10-19T09:27:24.580514Z"
    },
    "trusted": true
   },
   "outputs": [],
   "source": [
    "predictions = model(encoded_sentences, offsets)"
   ]
  },
  {
   "cell_type": "code",
   "execution_count": null,
   "metadata": {
    "execution": {
     "iopub.execute_input": "2025-10-19T09:27:27.062775Z",
     "iopub.status.busy": "2025-10-19T09:27:27.062215Z",
     "iopub.status.idle": "2025-10-19T09:27:27.075286Z",
     "shell.execute_reply": "2025-10-19T09:27:27.074591Z",
     "shell.execute_reply.started": "2025-10-19T09:27:27.062753Z"
    },
    "trusted": true
   },
   "outputs": [],
   "source": [
    "print(predictions)"
   ]
  },
  {
   "cell_type": "code",
   "execution_count": null,
   "metadata": {
    "execution": {
     "iopub.execute_input": "2025-10-19T09:27:31.270680Z",
     "iopub.status.busy": "2025-10-19T09:27:31.270235Z",
     "iopub.status.idle": "2025-10-19T09:27:35.301749Z",
     "shell.execute_reply": "2025-10-19T09:27:35.301019Z",
     "shell.execute_reply.started": "2025-10-19T09:27:31.270657Z"
    },
    "trusted": true
   },
   "outputs": [],
   "source": [
    "learning_rate = 2e-5\n",
    "\n",
    "criterion = torch.nn.CrossEntropyLoss()\n",
    "optimizer = torch.optim.SGD(model.parameters(), lr=learning_rate)"
   ]
  },
  {
   "cell_type": "code",
   "execution_count": null,
   "metadata": {
    "execution": {
     "iopub.execute_input": "2025-10-19T09:27:38.670597Z",
     "iopub.status.busy": "2025-10-19T09:27:38.669858Z",
     "iopub.status.idle": "2025-10-19T09:27:38.692236Z",
     "shell.execute_reply": "2025-10-19T09:27:38.691645Z",
     "shell.execute_reply.started": "2025-10-19T09:27:38.670573Z"
    },
    "trusted": true
   },
   "outputs": [],
   "source": [
    "loss = criterion(predictions, labels)\n",
    "print(loss)"
   ]
  },
  {
   "cell_type": "code",
   "execution_count": null,
   "metadata": {
    "execution": {
     "iopub.execute_input": "2025-10-19T09:27:41.289389Z",
     "iopub.status.busy": "2025-10-19T09:27:41.288809Z",
     "iopub.status.idle": "2025-10-19T09:27:41.295896Z",
     "shell.execute_reply": "2025-10-19T09:27:41.295378Z",
     "shell.execute_reply.started": "2025-10-19T09:27:41.289365Z"
    },
    "trusted": true
   },
   "outputs": [],
   "source": [
    "import time\n",
    "\n",
    "def train(model, optimizer, criterion, train_dataloader, epoch=0, log_interval=50):\n",
    "    model.train()\n",
    "    total_acc, total_count = 0, 0\n",
    "    losses = []\n",
    "    start_time = time.time()\n",
    "\n",
    "    for idx, (inputs, offsets, labels) in enumerate(train_dataloader):\n",
    "        optimizer.zero_grad()\n",
    "        predictions = model(inputs, offsets)\n",
    "\n",
    "        # compute loss\n",
    "        loss = criterion(predictions, labels)\n",
    "        losses.append(loss.item())\n",
    "\n",
    "        # backward\n",
    "        loss.backward()\n",
    "        torch.nn.utils.clip_grad_norm_(model.parameters(), 0.1)\n",
    "        optimizer.step()\n",
    "        total_acc += (predictions.argmax(1) == labels).sum().item()\n",
    "        total_count += labels.size(0)\n",
    "        if idx % log_interval == 0 and idx > 0:\n",
    "            elapsed = time.time() - start_time\n",
    "            print(\n",
    "                \"| epoch {:3d} | {:5d}/{:5d} batches \"\n",
    "                \"| accuracy {:8.3f}\".format(\n",
    "                    epoch, idx, len(train_dataloader), total_acc / total_count\n",
    "                )\n",
    "            )\n",
    "            total_acc, total_count = 0, 0\n",
    "            start_time = time.time()\n",
    "\n",
    "    epoch_acc = total_acc / total_count\n",
    "    epoch_loss = sum(losses) / len(losses)\n",
    "    return epoch_acc, epoch_loss"
   ]
  },
  {
   "cell_type": "code",
   "execution_count": null,
   "metadata": {
    "execution": {
     "iopub.execute_input": "2025-10-19T09:27:51.364308Z",
     "iopub.status.busy": "2025-10-19T09:27:51.363793Z",
     "iopub.status.idle": "2025-10-19T09:27:51.616559Z",
     "shell.execute_reply": "2025-10-19T09:27:51.615965Z",
     "shell.execute_reply.started": "2025-10-19T09:27:51.364282Z"
    },
    "trusted": true
   },
   "outputs": [],
   "source": [
    "epoch_acc, epoch_loss = train(model, optimizer, criterion, train_dataloader)"
   ]
  },
  {
   "cell_type": "code",
   "execution_count": null,
   "metadata": {
    "execution": {
     "iopub.execute_input": "2025-10-19T09:27:57.544847Z",
     "iopub.status.busy": "2025-10-19T09:27:57.544278Z",
     "iopub.status.idle": "2025-10-19T09:27:57.549049Z",
     "shell.execute_reply": "2025-10-19T09:27:57.548485Z",
     "shell.execute_reply.started": "2025-10-19T09:27:57.544816Z"
    },
    "trusted": true
   },
   "outputs": [],
   "source": [
    "epoch_acc, epoch_loss"
   ]
  },
  {
   "cell_type": "code",
   "execution_count": null,
   "metadata": {
    "execution": {
     "iopub.execute_input": "2025-10-19T09:27:59.938810Z",
     "iopub.status.busy": "2025-10-19T09:27:59.938123Z",
     "iopub.status.idle": "2025-10-19T09:27:59.943500Z",
     "shell.execute_reply": "2025-10-19T09:27:59.942712Z",
     "shell.execute_reply.started": "2025-10-19T09:27:59.938786Z"
    },
    "trusted": true
   },
   "outputs": [],
   "source": [
    "def evaluate(model, criterion, valid_dataloader):\n",
    "    model.eval()\n",
    "    total_acc, total_count = 0, 0\n",
    "    losses = []\n",
    "\n",
    "    with torch.no_grad():\n",
    "        for idx, (inputs, offsets, labels) in enumerate(valid_dataloader):\n",
    "            predictions = model(inputs, offsets)\n",
    "            loss = criterion(predictions, labels)\n",
    "            losses.append(loss)\n",
    "            total_acc += (predictions.argmax(1) == labels).sum().item()\n",
    "            total_count += labels.size(0)\n",
    "\n",
    "    epoch_acc = total_acc / total_count\n",
    "    epoch_loss = sum(losses) / len(losses)\n",
    "    return epoch_acc, epoch_loss"
   ]
  },
  {
   "cell_type": "code",
   "execution_count": null,
   "metadata": {
    "execution": {
     "iopub.execute_input": "2025-10-19T09:28:02.381007Z",
     "iopub.status.busy": "2025-10-19T09:28:02.380341Z",
     "iopub.status.idle": "2025-10-19T09:28:02.396854Z",
     "shell.execute_reply": "2025-10-19T09:28:02.396287Z",
     "shell.execute_reply.started": "2025-10-19T09:28:02.380981Z"
    },
    "trusted": true
   },
   "outputs": [],
   "source": [
    "eval_acc, eval_loss = evaluate(model, criterion, valid_dataloader)"
   ]
  },
  {
   "cell_type": "code",
   "execution_count": null,
   "metadata": {
    "execution": {
     "iopub.execute_input": "2025-10-19T09:28:04.768080Z",
     "iopub.status.busy": "2025-10-19T09:28:04.767771Z",
     "iopub.status.idle": "2025-10-19T09:28:04.773643Z",
     "shell.execute_reply": "2025-10-19T09:28:04.772949Z",
     "shell.execute_reply.started": "2025-10-19T09:28:04.768060Z"
    },
    "trusted": true
   },
   "outputs": [],
   "source": [
    "eval_acc, eval_loss"
   ]
  },
  {
   "cell_type": "code",
   "execution_count": null,
   "metadata": {
    "execution": {
     "iopub.execute_input": "2025-10-19T09:28:07.228544Z",
     "iopub.status.busy": "2025-10-19T09:28:07.227866Z",
     "iopub.status.idle": "2025-10-19T09:28:07.232162Z",
     "shell.execute_reply": "2025-10-19T09:28:07.231568Z",
     "shell.execute_reply.started": "2025-10-19T09:28:07.228522Z"
    },
    "trusted": true
   },
   "outputs": [],
   "source": [
    "vocab_size = len(vocabulary)\n",
    "print(vocab_size)"
   ]
  },
  {
   "cell_type": "code",
   "execution_count": null,
   "metadata": {
    "execution": {
     "iopub.execute_input": "2025-10-19T09:28:17.863147Z",
     "iopub.status.busy": "2025-10-19T09:28:17.862730Z",
     "iopub.status.idle": "2025-10-19T09:28:33.354540Z",
     "shell.execute_reply": "2025-10-19T09:28:33.353967Z",
     "shell.execute_reply.started": "2025-10-19T09:28:17.863126Z"
    },
    "trusted": true
   },
   "outputs": [],
   "source": [
    "num_class = len(set(train_df_vi['labels']))\n",
    "\n",
    "embed_dim = 100\n",
    "model = TextClassificationModel(vocab_size, embed_dim, num_class).to(device)\n",
    "\n",
    "learning_rate = 5\n",
    "criterion = torch.nn.CrossEntropyLoss()\n",
    "optimizer = torch.optim.SGD(model.parameters(), lr=learning_rate)\n",
    "\n",
    "num_epochs = 100\n",
    "for epoch in range(1, num_epochs+1):\n",
    "    epoch_start_time = time.time()\n",
    "    train_acc, train_loss = train(model, optimizer, criterion, train_dataloader, epoch)\n",
    "    eval_acc, eval_loss = evaluate(model, criterion, valid_dataloader)\n",
    "    print(\"-\" * 59)\n",
    "    print(\n",
    "        \"| End of epoch {:3d} | Time: {:5.2f}s | Train Accuracy {:8.3f} | Train Loss {:8.3f} \"\n",
    "        \"| Valid Accuracy {:8.3f} | Valid Loss {:8.3f} \".format(\n",
    "            epoch, time.time() - epoch_start_time, train_acc, train_loss, eval_acc, eval_loss\n",
    "        )\n",
    "    )\n",
    "    print(\"-\" * 59)"
   ]
  },
  {
   "cell_type": "code",
   "execution_count": null,
   "metadata": {
    "execution": {
     "iopub.execute_input": "2025-07-23T08:35:32.620918Z",
     "iopub.status.busy": "2025-07-23T08:35:32.620614Z",
     "iopub.status.idle": "2025-07-23T08:35:32.625737Z",
     "shell.execute_reply": "2025-07-23T08:35:32.625220Z",
     "shell.execute_reply.started": "2025-07-23T08:35:32.620885Z"
    },
    "trusted": true
   },
   "outputs": [],
   "source": [
    "model = model.to('cpu')"
   ]
  },
  {
   "cell_type": "code",
   "execution_count": null,
   "metadata": {
    "execution": {
     "iopub.execute_input": "2025-07-23T08:35:32.626765Z",
     "iopub.status.busy": "2025-07-23T08:35:32.626485Z",
     "iopub.status.idle": "2025-07-23T08:35:32.637793Z",
     "shell.execute_reply": "2025-07-23T08:35:32.637263Z",
     "shell.execute_reply.started": "2025-07-23T08:35:32.626738Z"
    },
    "trusted": true
   },
   "outputs": [],
   "source": [
    "def predict(text):\n",
    "    with torch.no_grad():\n",
    "        encoded = torch.tensor(vocabulary(tokenizer(text)))\n",
    "        output = model(encoded, torch.tensor([0]))\n",
    "        return output.argmax(1).item()"
   ]
  },
  {
   "cell_type": "code",
   "execution_count": null,
   "metadata": {
    "execution": {
     "iopub.execute_input": "2025-07-23T08:35:32.638706Z",
     "iopub.status.busy": "2025-07-23T08:35:32.638488Z",
     "iopub.status.idle": "2025-07-23T08:35:32.652318Z",
     "shell.execute_reply": "2025-07-23T08:35:32.651508Z",
     "shell.execute_reply.started": "2025-07-23T08:35:32.638691Z"
    },
    "trusted": true
   },
   "outputs": [],
   "source": [
    "data_test.iloc[0]"
   ]
  },
  {
   "cell_type": "code",
   "execution_count": null,
   "metadata": {
    "execution": {
     "iopub.execute_input": "2025-07-23T08:38:06.080808Z",
     "iopub.status.busy": "2025-07-23T08:38:06.080272Z",
     "iopub.status.idle": "2025-07-23T08:38:06.084561Z",
     "shell.execute_reply": "2025-07-23T08:38:06.083747Z",
     "shell.execute_reply.started": "2025-07-23T08:38:06.080781Z"
    },
    "trusted": true
   },
   "outputs": [],
   "source": [
    "text = \"\"\"\n",
    "KHẨN: VCB tăng vọt chưa từng có, biến động mạnh!\n",
    "\"\"\""
   ]
  },
  {
   "cell_type": "code",
   "execution_count": null,
   "metadata": {
    "execution": {
     "iopub.execute_input": "2025-07-23T08:38:09.041655Z",
     "iopub.status.busy": "2025-07-23T08:38:09.041428Z",
     "iopub.status.idle": "2025-07-23T08:38:09.047271Z",
     "shell.execute_reply": "2025-07-23T08:38:09.046584Z",
     "shell.execute_reply.started": "2025-07-23T08:38:09.041639Z"
    },
    "trusted": true
   },
   "outputs": [],
   "source": [
    "predict(text)"
   ]
  },
  {
   "cell_type": "code",
   "execution_count": null,
   "metadata": {
    "execution": {
     "iopub.execute_input": "2025-07-23T08:38:57.683004Z",
     "iopub.status.busy": "2025-07-23T08:38:57.682348Z",
     "iopub.status.idle": "2025-07-23T08:38:57.689457Z",
     "shell.execute_reply": "2025-07-23T08:38:57.688563Z",
     "shell.execute_reply.started": "2025-07-23T08:38:57.682981Z"
    },
    "trusted": true
   },
   "outputs": [],
   "source": [
    "torch.save(model.state_dict(), 'model_state.pth')\n"
   ]
  },
  {
   "cell_type": "code",
   "execution_count": null,
   "metadata": {
    "execution": {
     "iopub.execute_input": "2025-07-23T08:49:39.801532Z",
     "iopub.status.busy": "2025-07-23T08:49:39.801235Z",
     "iopub.status.idle": "2025-07-23T08:49:39.807818Z",
     "shell.execute_reply": "2025-07-23T08:49:39.807209Z",
     "shell.execute_reply.started": "2025-07-23T08:49:39.801510Z"
    },
    "trusted": true
   },
   "outputs": [],
   "source": [
    "import pickle\n",
    "\n",
    "# Lưu vocabulary vào file\n",
    "with open('vocab.pkl', 'wb') as f:\n",
    "    pickle.dump(vocabulary, f)"
   ]
  },
  {
   "cell_type": "code",
   "execution_count": null,
   "metadata": {
    "trusted": true
   },
   "outputs": [],
   "source": []
  }
 ],
 "metadata": {
  "kaggle": {
   "accelerator": "nvidiaTeslaT4",
   "dataSources": [
    {
     "datasetId": 7923536,
     "sourceId": 12549581,
     "sourceType": "datasetVersion"
    },
    {
     "datasetId": 7924234,
     "sourceId": 12550505,
     "sourceType": "datasetVersion"
    },
    {
     "datasetId": 7924994,
     "sourceId": 12551577,
     "sourceType": "datasetVersion"
    },
    {
     "datasetId": 7925027,
     "sourceId": 12551612,
     "sourceType": "datasetVersion"
    },
    {
     "datasetId": 7925159,
     "sourceId": 12551786,
     "sourceType": "datasetVersion"
    },
    {
     "datasetId": 7925218,
     "sourceId": 12551864,
     "sourceType": "datasetVersion"
    },
    {
     "datasetId": 8525207,
     "sourceId": 13431744,
     "sourceType": "datasetVersion"
    }
   ],
   "dockerImageVersionId": 31090,
   "isGpuEnabled": true,
   "isInternetEnabled": true,
   "language": "python",
   "sourceType": "notebook"
  },
  "kernelspec": {
   "display_name": "Python 3",
   "language": "python",
   "name": "python3"
  },
  "language_info": {
   "codemirror_mode": {
    "name": "ipython",
    "version": 3
   },
   "file_extension": ".py",
   "mimetype": "text/x-python",
   "name": "python",
   "nbconvert_exporter": "python",
   "pygments_lexer": "ipython3",
   "version": "3.11.13"
  }
 },
 "nbformat": 4,
 "nbformat_minor": 4
}
